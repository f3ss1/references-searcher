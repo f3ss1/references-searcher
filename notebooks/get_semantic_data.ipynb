{
 "cells": [
  {
   "metadata": {
    "ExecuteTime": {
     "end_time": "2024-04-24T22:11:29.218394Z",
     "start_time": "2024-04-24T22:11:29.173169Z"
    }
   },
   "cell_type": "code",
   "source": [
    "%load_ext autoreload\n",
    "%autoreload 2"
   ],
   "id": "4fd07e732c978762",
   "outputs": [
    {
     "name": "stdout",
     "output_type": "stream",
     "text": [
      "The autoreload extension is already loaded. To reload it, use:\n",
      "  %reload_ext autoreload\n"
     ]
    }
   ],
   "execution_count": 4
  },
  {
   "cell_type": "code",
   "id": "initial_id",
   "metadata": {
    "collapsed": true,
    "ExecuteTime": {
     "end_time": "2024-04-24T22:11:29.265455Z",
     "start_time": "2024-04-24T22:11:29.219393Z"
    }
   },
   "source": [
    "import os\n",
    "\n",
    "from citations_searcher.data import generate_dataframe, get_semantic_data\n",
    "from citations_searcher.constants import PROJECT_ROOT"
   ],
   "outputs": [],
   "execution_count": 5
  },
  {
   "metadata": {
    "ExecuteTime": {
     "end_time": "2024-04-24T22:13:04.846661Z",
     "start_time": "2024-04-24T22:11:29.266453Z"
    }
   },
   "cell_type": "code",
   "source": "df = generate_dataframe()",
   "id": "be933460a18e28d",
   "outputs": [
    {
     "name": "stderr",
     "output_type": "stream",
     "text": [
      "100%|██████████| 2450893/2450893 [01:35<00:00, 25658.84it/s]\n"
     ]
    }
   ],
   "execution_count": 6
  },
  {
   "metadata": {
    "ExecuteTime": {
     "end_time": "2024-04-24T22:13:05.536395Z",
     "start_time": "2024-04-24T22:13:04.847660Z"
    }
   },
   "cell_type": "code",
   "source": [
    "cs_arxiv_ids = df[\n",
    "        df['category_1'].str.startswith('cs.')\n",
    "        | df['category_2'].str.startswith('cs.')\n",
    "]['arxiv_id']\n",
    "len(cs_arxiv_ids)"
   ],
   "id": "bee9cce6f771487b",
   "outputs": [
    {
     "data": {
      "text/plain": [
       "1000"
      ]
     },
     "execution_count": 7,
     "metadata": {},
     "output_type": "execute_result"
    }
   ],
   "execution_count": 7
  },
  {
   "metadata": {
    "ExecuteTime": {
     "end_time": "2024-04-24T22:14:13.956862Z",
     "start_time": "2024-04-24T22:13:05.537392Z"
    }
   },
   "cell_type": "code",
   "source": [
    "api_key = os.getenv(\"SEMANTIC_API_KEY\")\n",
    "get_semantic_data(api_key, cs_arxiv_ids, PROJECT_ROOT / \"data/semantic_result.json\")"
   ],
   "id": "b52674aed50078ea",
   "outputs": [
    {
     "name": "stderr",
     "output_type": "stream",
     "text": [
      "\u001B[32m2024-04-25 00:13:05.581\u001B[0m | \u001B[1mINFO    \u001B[0m | \u001B[36mcitations_searcher.data.get_semantic_data\u001B[0m:\u001B[36mget_semantic_data\u001B[0m:\u001B[36m50\u001B[0m - \u001B[1mStarted requesting data from Semantic Scholar for 1000 papers.\u001B[0m\n",
      "\u001B[32m2024-04-25 00:13:30.766\u001B[0m | \u001B[1mINFO    \u001B[0m | \u001B[36mcitations_searcher.data.get_semantic_data\u001B[0m:\u001B[36mget_semantic_data\u001B[0m:\u001B[36m79\u001B[0m - \u001B[1mSuccessful request for 400 ids, 600 remaining.\u001B[0m\n",
      "\u001B[32m2024-04-25 00:13:30.899\u001B[0m | \u001B[1mINFO    \u001B[0m | \u001B[36mcitations_searcher.data.get_semantic_data\u001B[0m:\u001B[36m_inject_arxiv_data\u001B[0m:\u001B[36m128\u001B[0m - \u001B[1mStarting injecting arxiv ids into 400 entries.\u001B[0m\n",
      "\u001B[32m2024-04-25 00:13:30.900\u001B[0m | \u001B[33m\u001B[1mWARNING \u001B[0m | \u001B[36mcitations_searcher.data.get_semantic_data\u001B[0m:\u001B[36m_inject_arxiv_data\u001B[0m:\u001B[36m132\u001B[0m - \u001B[33m\u001B[1mEncountered a None value for paper 0704.0540, skipping it!\u001B[0m\n",
      "\u001B[32m2024-04-25 00:13:30.901\u001B[0m | \u001B[33m\u001B[1mWARNING \u001B[0m | \u001B[36mcitations_searcher.data.get_semantic_data\u001B[0m:\u001B[36m_inject_arxiv_data\u001B[0m:\u001B[36m132\u001B[0m - \u001B[33m\u001B[1mEncountered a None value for paper 0704.1524, skipping it!\u001B[0m\n",
      "\u001B[32m2024-04-25 00:13:30.906\u001B[0m | \u001B[33m\u001B[1mWARNING \u001B[0m | \u001B[36mcitations_searcher.data.get_semantic_data\u001B[0m:\u001B[36m_inject_arxiv_data\u001B[0m:\u001B[36m132\u001B[0m - \u001B[33m\u001B[1mEncountered a None value for paper 0704.2475, skipping it!\u001B[0m\n",
      "\u001B[32m2024-04-25 00:13:30.907\u001B[0m | \u001B[33m\u001B[1mWARNING \u001B[0m | \u001B[36mcitations_searcher.data.get_semantic_data\u001B[0m:\u001B[36m_inject_arxiv_data\u001B[0m:\u001B[36m132\u001B[0m - \u001B[33m\u001B[1mEncountered a None value for paper 0704.3241, skipping it!\u001B[0m\n",
      "\u001B[32m2024-04-25 00:13:30.908\u001B[0m | \u001B[33m\u001B[1mWARNING \u001B[0m | \u001B[36mcitations_searcher.data.get_semantic_data\u001B[0m:\u001B[36m_inject_arxiv_data\u001B[0m:\u001B[36m132\u001B[0m - \u001B[33m\u001B[1mEncountered a None value for paper 0704.3391, skipping it!\u001B[0m\n",
      "\u001B[32m2024-04-25 00:13:30.908\u001B[0m | \u001B[33m\u001B[1mWARNING \u001B[0m | \u001B[36mcitations_searcher.data.get_semantic_data\u001B[0m:\u001B[36m_inject_arxiv_data\u001B[0m:\u001B[36m132\u001B[0m - \u001B[33m\u001B[1mEncountered a None value for paper 0704.3402, skipping it!\u001B[0m\n",
      "\u001B[32m2024-04-25 00:13:30.909\u001B[0m | \u001B[33m\u001B[1mWARNING \u001B[0m | \u001B[36mcitations_searcher.data.get_semantic_data\u001B[0m:\u001B[36m_inject_arxiv_data\u001B[0m:\u001B[36m132\u001B[0m - \u001B[33m\u001B[1mEncountered a None value for paper 0705.1025, skipping it!\u001B[0m\n",
      "\u001B[32m2024-04-25 00:13:30.910\u001B[0m | \u001B[33m\u001B[1mWARNING \u001B[0m | \u001B[36mcitations_searcher.data.get_semantic_data\u001B[0m:\u001B[36m_inject_arxiv_data\u001B[0m:\u001B[36m132\u001B[0m - \u001B[33m\u001B[1mEncountered a None value for paper 0705.1410, skipping it!\u001B[0m\n",
      "\u001B[32m2024-04-25 00:13:30.910\u001B[0m | \u001B[1mINFO    \u001B[0m | \u001B[36mcitations_searcher.data.get_semantic_data\u001B[0m:\u001B[36m_inject_arxiv_data\u001B[0m:\u001B[36m137\u001B[0m - \u001B[1mSuccessfully injected arxiv ids for 392 papers.\u001B[0m\n",
      "\u001B[32m2024-04-25 00:13:56.147\u001B[0m | \u001B[1mINFO    \u001B[0m | \u001B[36mcitations_searcher.data.get_semantic_data\u001B[0m:\u001B[36mget_semantic_data\u001B[0m:\u001B[36m79\u001B[0m - \u001B[1mSuccessful request for 400 ids, 200 remaining.\u001B[0m\n",
      "\u001B[32m2024-04-25 00:13:56.319\u001B[0m | \u001B[1mINFO    \u001B[0m | \u001B[36mcitations_searcher.data.get_semantic_data\u001B[0m:\u001B[36m_inject_arxiv_data\u001B[0m:\u001B[36m128\u001B[0m - \u001B[1mStarting injecting arxiv ids into 400 entries.\u001B[0m\n",
      "\u001B[32m2024-04-25 00:13:56.320\u001B[0m | \u001B[33m\u001B[1mWARNING \u001B[0m | \u001B[36mcitations_searcher.data.get_semantic_data\u001B[0m:\u001B[36m_inject_arxiv_data\u001B[0m:\u001B[36m132\u001B[0m - \u001B[33m\u001B[1mEncountered a None value for paper 0705.3468, skipping it!\u001B[0m\n",
      "\u001B[32m2024-04-25 00:13:56.321\u001B[0m | \u001B[33m\u001B[1mWARNING \u001B[0m | \u001B[36mcitations_searcher.data.get_semantic_data\u001B[0m:\u001B[36m_inject_arxiv_data\u001B[0m:\u001B[36m132\u001B[0m - \u001B[33m\u001B[1mEncountered a None value for paper 0705.4228, skipping it!\u001B[0m\n",
      "\u001B[32m2024-04-25 00:13:56.322\u001B[0m | \u001B[33m\u001B[1mWARNING \u001B[0m | \u001B[36mcitations_searcher.data.get_semantic_data\u001B[0m:\u001B[36m_inject_arxiv_data\u001B[0m:\u001B[36m132\u001B[0m - \u001B[33m\u001B[1mEncountered a None value for paper 0705.4415, skipping it!\u001B[0m\n",
      "\u001B[32m2024-04-25 00:13:56.322\u001B[0m | \u001B[33m\u001B[1mWARNING \u001B[0m | \u001B[36mcitations_searcher.data.get_semantic_data\u001B[0m:\u001B[36m_inject_arxiv_data\u001B[0m:\u001B[36m132\u001B[0m - \u001B[33m\u001B[1mEncountered a None value for paper 0706.4323, skipping it!\u001B[0m\n",
      "\u001B[32m2024-04-25 00:13:56.323\u001B[0m | \u001B[33m\u001B[1mWARNING \u001B[0m | \u001B[36mcitations_searcher.data.get_semantic_data\u001B[0m:\u001B[36m_inject_arxiv_data\u001B[0m:\u001B[36m132\u001B[0m - \u001B[33m\u001B[1mEncountered a None value for paper 0707.0704, skipping it!\u001B[0m\n",
      "\u001B[32m2024-04-25 00:13:56.323\u001B[0m | \u001B[1mINFO    \u001B[0m | \u001B[36mcitations_searcher.data.get_semantic_data\u001B[0m:\u001B[36m_inject_arxiv_data\u001B[0m:\u001B[36m137\u001B[0m - \u001B[1mSuccessfully injected arxiv ids for 395 papers.\u001B[0m\n",
      "\u001B[32m2024-04-25 00:14:12.040\u001B[0m | \u001B[1mINFO    \u001B[0m | \u001B[36mcitations_searcher.data.get_semantic_data\u001B[0m:\u001B[36mget_semantic_data\u001B[0m:\u001B[36m79\u001B[0m - \u001B[1mSuccessful request for 400 ids, 0 remaining.\u001B[0m\n",
      "\u001B[32m2024-04-25 00:14:12.111\u001B[0m | \u001B[1mINFO    \u001B[0m | \u001B[36mcitations_searcher.data.get_semantic_data\u001B[0m:\u001B[36m_inject_arxiv_data\u001B[0m:\u001B[36m128\u001B[0m - \u001B[1mStarting injecting arxiv ids into 200 entries.\u001B[0m\n",
      "\u001B[32m2024-04-25 00:14:12.112\u001B[0m | \u001B[33m\u001B[1mWARNING \u001B[0m | \u001B[36mcitations_searcher.data.get_semantic_data\u001B[0m:\u001B[36m_inject_arxiv_data\u001B[0m:\u001B[36m132\u001B[0m - \u001B[33m\u001B[1mEncountered a None value for paper 0708.2173, skipping it!\u001B[0m\n",
      "\u001B[32m2024-04-25 00:14:12.113\u001B[0m | \u001B[1mINFO    \u001B[0m | \u001B[36mcitations_searcher.data.get_semantic_data\u001B[0m:\u001B[36m_inject_arxiv_data\u001B[0m:\u001B[36m137\u001B[0m - \u001B[1mSuccessfully injected arxiv ids for 199 papers.\u001B[0m\n",
      "\u001B[32m2024-04-25 00:14:12.113\u001B[0m | \u001B[1mINFO    \u001B[0m | \u001B[36mcitations_searcher.data.get_semantic_data\u001B[0m:\u001B[36mget_semantic_data\u001B[0m:\u001B[36m112\u001B[0m - \u001B[1mDumping the list to D:\\CS\\personal_projects\\citations-searcher\\data\\semantic_result.json...\u001B[0m\n",
      "\u001B[32m2024-04-25 00:14:13.930\u001B[0m | \u001B[1mINFO    \u001B[0m | \u001B[36mcitations_searcher.data.get_semantic_data\u001B[0m:\u001B[36mget_semantic_data\u001B[0m:\u001B[36m115\u001B[0m - \u001B[1mSuccessful dump!\u001B[0m\n",
      "\u001B[32m2024-04-25 00:14:13.931\u001B[0m | \u001B[1mINFO    \u001B[0m | \u001B[36mcitations_searcher.data.get_semantic_data\u001B[0m:\u001B[36mget_semantic_data\u001B[0m:\u001B[36m117\u001B[0m - \u001B[1mFinished processing 1000 objects, encountered 0 unhandled error, excluded 14 papers.\u001B[0m\n"
     ]
    }
   ],
   "execution_count": 8
  }
 ],
 "metadata": {
  "kernelspec": {
   "display_name": "Python 3",
   "language": "python",
   "name": "python3"
  },
  "language_info": {
   "codemirror_mode": {
    "name": "ipython",
    "version": 2
   },
   "file_extension": ".py",
   "mimetype": "text/x-python",
   "name": "python",
   "nbconvert_exporter": "python",
   "pygments_lexer": "ipython2",
   "version": "2.7.6"
  }
 },
 "nbformat": 4,
 "nbformat_minor": 5
}
